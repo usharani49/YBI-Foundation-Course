{
  "nbformat": 4,
  "nbformat_minor": 0,
  "metadata": {
    "colab": {
      "name": "handson4.ipynb",
      "provenance": [],
      "collapsed_sections": [],
      "include_colab_link": true
    },
    "kernelspec": {
      "name": "python3",
      "display_name": "Python 3"
    },
    "language_info": {
      "name": "python"
    }
  },
  "cells": [
    {
      "cell_type": "markdown",
      "metadata": {
        "id": "view-in-github",
        "colab_type": "text"
      },
      "source": [
        "<a href=\"https://colab.research.google.com/github/usharani49/YBI-Foundation-Course/blob/main/handson4.ipynb\" target=\"_parent\"><img src=\"https://colab.research.google.com/assets/colab-badge.svg\" alt=\"Open In Colab\"/></a>"
      ]
    },
    {
      "cell_type": "markdown",
      "source": [
        "# **BIKE PRICE PREDICTION**"
      ],
      "metadata": {
        "id": "w5N_VhBzbRiX"
      }
    },
    {
      "cell_type": "markdown",
      "source": [
        "**Import library**"
      ],
      "metadata": {
        "id": "3RxPnTDqbl9V"
      }
    },
    {
      "cell_type": "code",
      "execution_count": 1,
      "metadata": {
        "id": "Qdva5-eVbJrN"
      },
      "outputs": [],
      "source": [
        "import pandas as pd"
      ]
    },
    {
      "cell_type": "code",
      "source": [
        "import numpy as np"
      ],
      "metadata": {
        "id": "FUDjFCOXbtKd"
      },
      "execution_count": 2,
      "outputs": []
    },
    {
      "cell_type": "markdown",
      "source": [
        "**Import CSV as DataFrame**"
      ],
      "metadata": {
        "id": "2Bm9Ck17bxdn"
      }
    },
    {
      "cell_type": "code",
      "source": [
        "df = pd.read_csv(r'https://github.com/YBI-Foundation/Dataset/raw/main/Bike%20Prices.csv')"
      ],
      "metadata": {
        "id": "5IDzjpPObw2j"
      },
      "execution_count": 3,
      "outputs": []
    },
    {
      "cell_type": "markdown",
      "source": [
        "**Get first five rows of dataframe**"
      ],
      "metadata": {
        "id": "PLQSoGEZcLa3"
      }
    },
    {
      "cell_type": "code",
      "source": [
        "df.head()"
      ],
      "metadata": {
        "colab": {
          "base_uri": "https://localhost:8080/",
          "height": 206
        },
        "id": "u2A847PAcTYX",
        "outputId": "29d44070-20ae-4e9e-cc16-35ff64ee6a12"
      },
      "execution_count": 4,
      "outputs": [
        {
          "output_type": "execute_result",
          "data": {
            "text/plain": [
              "   Brand               Model  Selling_Price  Year Seller_Type      Owner  \\\n",
              "0    TVS          TVS XL 100          30000  2017  Individual  1st owner   \n",
              "1  Bajaj       Bajaj  ct 100          18000  2017  Individual  1st owner   \n",
              "2     Yo            Yo Style          20000  2011  Individual  1st owner   \n",
              "3  Bajaj  Bajaj Discover 100          25000  2010  Individual  1st owner   \n",
              "4  Bajaj  Bajaj Discover 100          24999  2012  Individual  2nd owner   \n",
              "\n",
              "   KM_Driven  Ex_Showroom_Price  \n",
              "0       8000            30490.0  \n",
              "1      35000            32000.0  \n",
              "2      10000            37675.0  \n",
              "3      43000            42859.0  \n",
              "4      35000            42859.0  "
            ],
            "text/html": [
              "\n",
              "  <div id=\"df-864f0908-23b7-4dde-99c8-cb50b6e6b63f\">\n",
              "    <div class=\"colab-df-container\">\n",
              "      <div>\n",
              "<style scoped>\n",
              "    .dataframe tbody tr th:only-of-type {\n",
              "        vertical-align: middle;\n",
              "    }\n",
              "\n",
              "    .dataframe tbody tr th {\n",
              "        vertical-align: top;\n",
              "    }\n",
              "\n",
              "    .dataframe thead th {\n",
              "        text-align: right;\n",
              "    }\n",
              "</style>\n",
              "<table border=\"1\" class=\"dataframe\">\n",
              "  <thead>\n",
              "    <tr style=\"text-align: right;\">\n",
              "      <th></th>\n",
              "      <th>Brand</th>\n",
              "      <th>Model</th>\n",
              "      <th>Selling_Price</th>\n",
              "      <th>Year</th>\n",
              "      <th>Seller_Type</th>\n",
              "      <th>Owner</th>\n",
              "      <th>KM_Driven</th>\n",
              "      <th>Ex_Showroom_Price</th>\n",
              "    </tr>\n",
              "  </thead>\n",
              "  <tbody>\n",
              "    <tr>\n",
              "      <th>0</th>\n",
              "      <td>TVS</td>\n",
              "      <td>TVS XL 100</td>\n",
              "      <td>30000</td>\n",
              "      <td>2017</td>\n",
              "      <td>Individual</td>\n",
              "      <td>1st owner</td>\n",
              "      <td>8000</td>\n",
              "      <td>30490.0</td>\n",
              "    </tr>\n",
              "    <tr>\n",
              "      <th>1</th>\n",
              "      <td>Bajaj</td>\n",
              "      <td>Bajaj  ct 100</td>\n",
              "      <td>18000</td>\n",
              "      <td>2017</td>\n",
              "      <td>Individual</td>\n",
              "      <td>1st owner</td>\n",
              "      <td>35000</td>\n",
              "      <td>32000.0</td>\n",
              "    </tr>\n",
              "    <tr>\n",
              "      <th>2</th>\n",
              "      <td>Yo</td>\n",
              "      <td>Yo Style</td>\n",
              "      <td>20000</td>\n",
              "      <td>2011</td>\n",
              "      <td>Individual</td>\n",
              "      <td>1st owner</td>\n",
              "      <td>10000</td>\n",
              "      <td>37675.0</td>\n",
              "    </tr>\n",
              "    <tr>\n",
              "      <th>3</th>\n",
              "      <td>Bajaj</td>\n",
              "      <td>Bajaj Discover 100</td>\n",
              "      <td>25000</td>\n",
              "      <td>2010</td>\n",
              "      <td>Individual</td>\n",
              "      <td>1st owner</td>\n",
              "      <td>43000</td>\n",
              "      <td>42859.0</td>\n",
              "    </tr>\n",
              "    <tr>\n",
              "      <th>4</th>\n",
              "      <td>Bajaj</td>\n",
              "      <td>Bajaj Discover 100</td>\n",
              "      <td>24999</td>\n",
              "      <td>2012</td>\n",
              "      <td>Individual</td>\n",
              "      <td>2nd owner</td>\n",
              "      <td>35000</td>\n",
              "      <td>42859.0</td>\n",
              "    </tr>\n",
              "  </tbody>\n",
              "</table>\n",
              "</div>\n",
              "      <button class=\"colab-df-convert\" onclick=\"convertToInteractive('df-864f0908-23b7-4dde-99c8-cb50b6e6b63f')\"\n",
              "              title=\"Convert this dataframe to an interactive table.\"\n",
              "              style=\"display:none;\">\n",
              "        \n",
              "  <svg xmlns=\"http://www.w3.org/2000/svg\" height=\"24px\"viewBox=\"0 0 24 24\"\n",
              "       width=\"24px\">\n",
              "    <path d=\"M0 0h24v24H0V0z\" fill=\"none\"/>\n",
              "    <path d=\"M18.56 5.44l.94 2.06.94-2.06 2.06-.94-2.06-.94-.94-2.06-.94 2.06-2.06.94zm-11 1L8.5 8.5l.94-2.06 2.06-.94-2.06-.94L8.5 2.5l-.94 2.06-2.06.94zm10 10l.94 2.06.94-2.06 2.06-.94-2.06-.94-.94-2.06-.94 2.06-2.06.94z\"/><path d=\"M17.41 7.96l-1.37-1.37c-.4-.4-.92-.59-1.43-.59-.52 0-1.04.2-1.43.59L10.3 9.45l-7.72 7.72c-.78.78-.78 2.05 0 2.83L4 21.41c.39.39.9.59 1.41.59.51 0 1.02-.2 1.41-.59l7.78-7.78 2.81-2.81c.8-.78.8-2.07 0-2.86zM5.41 20L4 18.59l7.72-7.72 1.47 1.35L5.41 20z\"/>\n",
              "  </svg>\n",
              "      </button>\n",
              "      \n",
              "  <style>\n",
              "    .colab-df-container {\n",
              "      display:flex;\n",
              "      flex-wrap:wrap;\n",
              "      gap: 12px;\n",
              "    }\n",
              "\n",
              "    .colab-df-convert {\n",
              "      background-color: #E8F0FE;\n",
              "      border: none;\n",
              "      border-radius: 50%;\n",
              "      cursor: pointer;\n",
              "      display: none;\n",
              "      fill: #1967D2;\n",
              "      height: 32px;\n",
              "      padding: 0 0 0 0;\n",
              "      width: 32px;\n",
              "    }\n",
              "\n",
              "    .colab-df-convert:hover {\n",
              "      background-color: #E2EBFA;\n",
              "      box-shadow: 0px 1px 2px rgba(60, 64, 67, 0.3), 0px 1px 3px 1px rgba(60, 64, 67, 0.15);\n",
              "      fill: #174EA6;\n",
              "    }\n",
              "\n",
              "    [theme=dark] .colab-df-convert {\n",
              "      background-color: #3B4455;\n",
              "      fill: #D2E3FC;\n",
              "    }\n",
              "\n",
              "    [theme=dark] .colab-df-convert:hover {\n",
              "      background-color: #434B5C;\n",
              "      box-shadow: 0px 1px 3px 1px rgba(0, 0, 0, 0.15);\n",
              "      filter: drop-shadow(0px 1px 2px rgba(0, 0, 0, 0.3));\n",
              "      fill: #FFFFFF;\n",
              "    }\n",
              "  </style>\n",
              "\n",
              "      <script>\n",
              "        const buttonEl =\n",
              "          document.querySelector('#df-864f0908-23b7-4dde-99c8-cb50b6e6b63f button.colab-df-convert');\n",
              "        buttonEl.style.display =\n",
              "          google.colab.kernel.accessAllowed ? 'block' : 'none';\n",
              "\n",
              "        async function convertToInteractive(key) {\n",
              "          const element = document.querySelector('#df-864f0908-23b7-4dde-99c8-cb50b6e6b63f');\n",
              "          const dataTable =\n",
              "            await google.colab.kernel.invokeFunction('convertToInteractive',\n",
              "                                                     [key], {});\n",
              "          if (!dataTable) return;\n",
              "\n",
              "          const docLinkHtml = 'Like what you see? Visit the ' +\n",
              "            '<a target=\"_blank\" href=https://colab.research.google.com/notebooks/data_table.ipynb>data table notebook</a>'\n",
              "            + ' to learn more about interactive tables.';\n",
              "          element.innerHTML = '';\n",
              "          dataTable['output_type'] = 'display_data';\n",
              "          await google.colab.output.renderOutput(dataTable, element);\n",
              "          const docLink = document.createElement('div');\n",
              "          docLink.innerHTML = docLinkHtml;\n",
              "          element.appendChild(docLink);\n",
              "        }\n",
              "      </script>\n",
              "    </div>\n",
              "  </div>\n",
              "  "
            ]
          },
          "metadata": {},
          "execution_count": 4
        }
      ]
    },
    {
      "cell_type": "markdown",
      "source": [
        "Get information of dataframe"
      ],
      "metadata": {
        "id": "CrrAkZxVcXqA"
      }
    },
    {
      "cell_type": "code",
      "source": [
        "df.info()"
      ],
      "metadata": {
        "colab": {
          "base_uri": "https://localhost:8080/"
        },
        "id": "BdNV7Cl0capa",
        "outputId": "4b9b842b-ee2f-4c9e-80df-0707c190b1e6"
      },
      "execution_count": 5,
      "outputs": [
        {
          "output_type": "stream",
          "name": "stdout",
          "text": [
            "<class 'pandas.core.frame.DataFrame'>\n",
            "RangeIndex: 1061 entries, 0 to 1060\n",
            "Data columns (total 8 columns):\n",
            " #   Column             Non-Null Count  Dtype  \n",
            "---  ------             --------------  -----  \n",
            " 0   Brand              1061 non-null   object \n",
            " 1   Model              1061 non-null   object \n",
            " 2   Selling_Price      1061 non-null   int64  \n",
            " 3   Year               1061 non-null   int64  \n",
            " 4   Seller_Type        1061 non-null   object \n",
            " 5   Owner              1061 non-null   object \n",
            " 6   KM_Driven          1061 non-null   int64  \n",
            " 7   Ex_Showroom_Price  626 non-null    float64\n",
            "dtypes: float64(1), int64(3), object(4)\n",
            "memory usage: 66.4+ KB\n"
          ]
        }
      ]
    },
    {
      "cell_type": "markdown",
      "source": [
        "Get missing values drop"
      ],
      "metadata": {
        "id": "EXCqTCqNceAK"
      }
    },
    {
      "cell_type": "code",
      "source": [
        "df = df.dropna()"
      ],
      "metadata": {
        "id": "TDw12KBechzi"
      },
      "execution_count": 6,
      "outputs": []
    },
    {
      "cell_type": "markdown",
      "source": [
        "Get the summary statistics"
      ],
      "metadata": {
        "id": "hIWU_0zBcmhf"
      }
    },
    {
      "cell_type": "code",
      "source": [
        "df.describe()"
      ],
      "metadata": {
        "colab": {
          "base_uri": "https://localhost:8080/",
          "height": 300
        },
        "id": "3EiKtw7Ncqrj",
        "outputId": "824a84d1-bdcf-456c-fafa-89b1cdad18e1"
      },
      "execution_count": 7,
      "outputs": [
        {
          "output_type": "execute_result",
          "data": {
            "text/plain": [
              "       Selling_Price         Year      KM_Driven  Ex_Showroom_Price\n",
              "count     626.000000   626.000000     626.000000       6.260000e+02\n",
              "mean    59445.164537  2014.800319   32671.576677       8.795871e+04\n",
              "std     59904.350888     3.018885   45479.661039       7.749659e+04\n",
              "min      6000.000000  2001.000000     380.000000       3.049000e+04\n",
              "25%     30000.000000  2013.000000   13031.250000       5.485200e+04\n",
              "50%     45000.000000  2015.000000   25000.000000       7.275250e+04\n",
              "75%     65000.000000  2017.000000   40000.000000       8.703150e+04\n",
              "max    760000.000000  2020.000000  585659.000000       1.278000e+06"
            ],
            "text/html": [
              "\n",
              "  <div id=\"df-7aa6fd0e-7992-45ce-a1e4-9cb0fcfd5910\">\n",
              "    <div class=\"colab-df-container\">\n",
              "      <div>\n",
              "<style scoped>\n",
              "    .dataframe tbody tr th:only-of-type {\n",
              "        vertical-align: middle;\n",
              "    }\n",
              "\n",
              "    .dataframe tbody tr th {\n",
              "        vertical-align: top;\n",
              "    }\n",
              "\n",
              "    .dataframe thead th {\n",
              "        text-align: right;\n",
              "    }\n",
              "</style>\n",
              "<table border=\"1\" class=\"dataframe\">\n",
              "  <thead>\n",
              "    <tr style=\"text-align: right;\">\n",
              "      <th></th>\n",
              "      <th>Selling_Price</th>\n",
              "      <th>Year</th>\n",
              "      <th>KM_Driven</th>\n",
              "      <th>Ex_Showroom_Price</th>\n",
              "    </tr>\n",
              "  </thead>\n",
              "  <tbody>\n",
              "    <tr>\n",
              "      <th>count</th>\n",
              "      <td>626.000000</td>\n",
              "      <td>626.000000</td>\n",
              "      <td>626.000000</td>\n",
              "      <td>6.260000e+02</td>\n",
              "    </tr>\n",
              "    <tr>\n",
              "      <th>mean</th>\n",
              "      <td>59445.164537</td>\n",
              "      <td>2014.800319</td>\n",
              "      <td>32671.576677</td>\n",
              "      <td>8.795871e+04</td>\n",
              "    </tr>\n",
              "    <tr>\n",
              "      <th>std</th>\n",
              "      <td>59904.350888</td>\n",
              "      <td>3.018885</td>\n",
              "      <td>45479.661039</td>\n",
              "      <td>7.749659e+04</td>\n",
              "    </tr>\n",
              "    <tr>\n",
              "      <th>min</th>\n",
              "      <td>6000.000000</td>\n",
              "      <td>2001.000000</td>\n",
              "      <td>380.000000</td>\n",
              "      <td>3.049000e+04</td>\n",
              "    </tr>\n",
              "    <tr>\n",
              "      <th>25%</th>\n",
              "      <td>30000.000000</td>\n",
              "      <td>2013.000000</td>\n",
              "      <td>13031.250000</td>\n",
              "      <td>5.485200e+04</td>\n",
              "    </tr>\n",
              "    <tr>\n",
              "      <th>50%</th>\n",
              "      <td>45000.000000</td>\n",
              "      <td>2015.000000</td>\n",
              "      <td>25000.000000</td>\n",
              "      <td>7.275250e+04</td>\n",
              "    </tr>\n",
              "    <tr>\n",
              "      <th>75%</th>\n",
              "      <td>65000.000000</td>\n",
              "      <td>2017.000000</td>\n",
              "      <td>40000.000000</td>\n",
              "      <td>8.703150e+04</td>\n",
              "    </tr>\n",
              "    <tr>\n",
              "      <th>max</th>\n",
              "      <td>760000.000000</td>\n",
              "      <td>2020.000000</td>\n",
              "      <td>585659.000000</td>\n",
              "      <td>1.278000e+06</td>\n",
              "    </tr>\n",
              "  </tbody>\n",
              "</table>\n",
              "</div>\n",
              "      <button class=\"colab-df-convert\" onclick=\"convertToInteractive('df-7aa6fd0e-7992-45ce-a1e4-9cb0fcfd5910')\"\n",
              "              title=\"Convert this dataframe to an interactive table.\"\n",
              "              style=\"display:none;\">\n",
              "        \n",
              "  <svg xmlns=\"http://www.w3.org/2000/svg\" height=\"24px\"viewBox=\"0 0 24 24\"\n",
              "       width=\"24px\">\n",
              "    <path d=\"M0 0h24v24H0V0z\" fill=\"none\"/>\n",
              "    <path d=\"M18.56 5.44l.94 2.06.94-2.06 2.06-.94-2.06-.94-.94-2.06-.94 2.06-2.06.94zm-11 1L8.5 8.5l.94-2.06 2.06-.94-2.06-.94L8.5 2.5l-.94 2.06-2.06.94zm10 10l.94 2.06.94-2.06 2.06-.94-2.06-.94-.94-2.06-.94 2.06-2.06.94z\"/><path d=\"M17.41 7.96l-1.37-1.37c-.4-.4-.92-.59-1.43-.59-.52 0-1.04.2-1.43.59L10.3 9.45l-7.72 7.72c-.78.78-.78 2.05 0 2.83L4 21.41c.39.39.9.59 1.41.59.51 0 1.02-.2 1.41-.59l7.78-7.78 2.81-2.81c.8-.78.8-2.07 0-2.86zM5.41 20L4 18.59l7.72-7.72 1.47 1.35L5.41 20z\"/>\n",
              "  </svg>\n",
              "      </button>\n",
              "      \n",
              "  <style>\n",
              "    .colab-df-container {\n",
              "      display:flex;\n",
              "      flex-wrap:wrap;\n",
              "      gap: 12px;\n",
              "    }\n",
              "\n",
              "    .colab-df-convert {\n",
              "      background-color: #E8F0FE;\n",
              "      border: none;\n",
              "      border-radius: 50%;\n",
              "      cursor: pointer;\n",
              "      display: none;\n",
              "      fill: #1967D2;\n",
              "      height: 32px;\n",
              "      padding: 0 0 0 0;\n",
              "      width: 32px;\n",
              "    }\n",
              "\n",
              "    .colab-df-convert:hover {\n",
              "      background-color: #E2EBFA;\n",
              "      box-shadow: 0px 1px 2px rgba(60, 64, 67, 0.3), 0px 1px 3px 1px rgba(60, 64, 67, 0.15);\n",
              "      fill: #174EA6;\n",
              "    }\n",
              "\n",
              "    [theme=dark] .colab-df-convert {\n",
              "      background-color: #3B4455;\n",
              "      fill: #D2E3FC;\n",
              "    }\n",
              "\n",
              "    [theme=dark] .colab-df-convert:hover {\n",
              "      background-color: #434B5C;\n",
              "      box-shadow: 0px 1px 3px 1px rgba(0, 0, 0, 0.15);\n",
              "      filter: drop-shadow(0px 1px 2px rgba(0, 0, 0, 0.3));\n",
              "      fill: #FFFFFF;\n",
              "    }\n",
              "  </style>\n",
              "\n",
              "      <script>\n",
              "        const buttonEl =\n",
              "          document.querySelector('#df-7aa6fd0e-7992-45ce-a1e4-9cb0fcfd5910 button.colab-df-convert');\n",
              "        buttonEl.style.display =\n",
              "          google.colab.kernel.accessAllowed ? 'block' : 'none';\n",
              "\n",
              "        async function convertToInteractive(key) {\n",
              "          const element = document.querySelector('#df-7aa6fd0e-7992-45ce-a1e4-9cb0fcfd5910');\n",
              "          const dataTable =\n",
              "            await google.colab.kernel.invokeFunction('convertToInteractive',\n",
              "                                                     [key], {});\n",
              "          if (!dataTable) return;\n",
              "\n",
              "          const docLinkHtml = 'Like what you see? Visit the ' +\n",
              "            '<a target=\"_blank\" href=https://colab.research.google.com/notebooks/data_table.ipynb>data table notebook</a>'\n",
              "            + ' to learn more about interactive tables.';\n",
              "          element.innerHTML = '';\n",
              "          dataTable['output_type'] = 'display_data';\n",
              "          await google.colab.output.renderOutput(dataTable, element);\n",
              "          const docLink = document.createElement('div');\n",
              "          docLink.innerHTML = docLinkHtml;\n",
              "          element.appendChild(docLink);\n",
              "        }\n",
              "      </script>\n",
              "    </div>\n",
              "  </div>\n",
              "  "
            ]
          },
          "metadata": {},
          "execution_count": 7
        }
      ]
    },
    {
      "cell_type": "markdown",
      "source": [
        "Get categories and counts of categorical variables"
      ],
      "metadata": {
        "id": "iP1HXtldcu5e"
      }
    },
    {
      "cell_type": "code",
      "source": [
        "df[['Brand']].value_counts()"
      ],
      "metadata": {
        "colab": {
          "base_uri": "https://localhost:8080/"
        },
        "id": "F0dKOwcBc0_Z",
        "outputId": "922cba5f-2f36-42d7-a52d-112ea7ed50d6"
      },
      "execution_count": 8,
      "outputs": [
        {
          "output_type": "execute_result",
          "data": {
            "text/plain": [
              "Brand   \n",
              "Honda       170\n",
              "Bajaj       143\n",
              "Hero        108\n",
              "Yamaha       94\n",
              "Royal        40\n",
              "TVS          23\n",
              "Suzuki       18\n",
              "KTM           6\n",
              "Mahindra      6\n",
              "Kawasaki      4\n",
              "UM            3\n",
              "Activa        3\n",
              "Harley        2\n",
              "Vespa         2\n",
              "BMW           1\n",
              "Hyosung       1\n",
              "Benelli       1\n",
              "Yo            1\n",
              "dtype: int64"
            ]
          },
          "metadata": {},
          "execution_count": 8
        }
      ]
    },
    {
      "cell_type": "code",
      "source": [
        "df[['Model']].value_counts()"
      ],
      "metadata": {
        "colab": {
          "base_uri": "https://localhost:8080/"
        },
        "id": "0ioC4R2Nc9MV",
        "outputId": "bde413f4-c615-49ff-d45c-998a372fe80e"
      },
      "execution_count": 9,
      "outputs": [
        {
          "output_type": "execute_result",
          "data": {
            "text/plain": [
              "Model                                     \n",
              "Honda Activa [2000-2015]                      23\n",
              "Honda CB Hornet 160R                          22\n",
              "Bajaj Pulsar 180                              20\n",
              "Yamaha FZ S V 2.0                             16\n",
              "Bajaj Discover 125                            16\n",
              "                                              ..\n",
              "Royal Enfield Thunderbird 500                  1\n",
              "Royal Enfield Continental GT [2013 - 2018]     1\n",
              "Royal Enfield Classic Stealth Black            1\n",
              "Royal Enfield Classic Squadron Blue            1\n",
              "Yo Style                                       1\n",
              "Length: 183, dtype: int64"
            ]
          },
          "metadata": {},
          "execution_count": 9
        }
      ]
    },
    {
      "cell_type": "code",
      "source": [
        "df[['Seller_Type']].value_counts()"
      ],
      "metadata": {
        "colab": {
          "base_uri": "https://localhost:8080/"
        },
        "id": "yxTuNBOPdEi5",
        "outputId": "10e2827d-cdb2-4aba-9c77-7418948caed1"
      },
      "execution_count": 10,
      "outputs": [
        {
          "output_type": "execute_result",
          "data": {
            "text/plain": [
              "Seller_Type\n",
              "Individual     623\n",
              "Dealer           3\n",
              "dtype: int64"
            ]
          },
          "metadata": {},
          "execution_count": 10
        }
      ]
    },
    {
      "cell_type": "code",
      "source": [
        "df[['Owner']].value_counts()"
      ],
      "metadata": {
        "colab": {
          "base_uri": "https://localhost:8080/"
        },
        "id": "x44INU4CdJac",
        "outputId": "08aa80f3-112d-4edd-e52e-20a9d6177a5a"
      },
      "execution_count": 11,
      "outputs": [
        {
          "output_type": "execute_result",
          "data": {
            "text/plain": [
              "Owner    \n",
              "1st owner    556\n",
              "2nd owner     66\n",
              "3rd owner      3\n",
              "4th owner      1\n",
              "dtype: int64"
            ]
          },
          "metadata": {},
          "execution_count": 11
        }
      ]
    },
    {
      "cell_type": "markdown",
      "source": [
        "Get column names"
      ],
      "metadata": {
        "id": "jmH5ckFoc7Sw"
      }
    },
    {
      "cell_type": "code",
      "source": [
        "df.columns"
      ],
      "metadata": {
        "colab": {
          "base_uri": "https://localhost:8080/"
        },
        "id": "YToUqBxedPEi",
        "outputId": "fe1ccbfe-7ea4-448f-c945-ae52b0c4585b"
      },
      "execution_count": 12,
      "outputs": [
        {
          "output_type": "execute_result",
          "data": {
            "text/plain": [
              "Index(['Brand', 'Model', 'Selling_Price', 'Year', 'Seller_Type', 'Owner',\n",
              "       'KM_Driven', 'Ex_Showroom_Price'],\n",
              "      dtype='object')"
            ]
          },
          "metadata": {},
          "execution_count": 12
        }
      ]
    },
    {
      "cell_type": "markdown",
      "source": [
        "Get shape of dataframe"
      ],
      "metadata": {
        "id": "SiY3OprYdR1W"
      }
    },
    {
      "cell_type": "code",
      "source": [
        "df.shape"
      ],
      "metadata": {
        "colab": {
          "base_uri": "https://localhost:8080/"
        },
        "id": "NfTwYWO6dUTV",
        "outputId": "0c208cee-789b-4e20-9c18-f2c80155ecf3"
      },
      "execution_count": 13,
      "outputs": [
        {
          "output_type": "execute_result",
          "data": {
            "text/plain": [
              "(626, 8)"
            ]
          },
          "metadata": {},
          "execution_count": 13
        }
      ]
    },
    {
      "cell_type": "markdown",
      "source": [
        "Get encoding of categorical features"
      ],
      "metadata": {
        "id": "jnNaNOTVdXsz"
      }
    },
    {
      "cell_type": "code",
      "source": [
        "df.replace({'Seller_Type':{'Individual':0,'Dealer':1}},inplace=True)"
      ],
      "metadata": {
        "id": "o6QVncr4dc4i"
      },
      "execution_count": 14,
      "outputs": []
    },
    {
      "cell_type": "code",
      "source": [
        "df.replace({'Owner':{'1st owner':0,'2nd owner':1,'3rd owner':2,'4th owner':3}},inplace=True)"
      ],
      "metadata": {
        "id": "d2-JewWed0NA"
      },
      "execution_count": 15,
      "outputs": []
    },
    {
      "cell_type": "markdown",
      "source": [
        "Define y and X"
      ],
      "metadata": {
        "id": "PEkHka59eMFH"
      }
    },
    {
      "cell_type": "code",
      "source": [
        "y=df['Selling_Price']"
      ],
      "metadata": {
        "id": "Ho556fT7eJ-s"
      },
      "execution_count": 16,
      "outputs": []
    },
    {
      "cell_type": "code",
      "source": [
        "y.shape"
      ],
      "metadata": {
        "colab": {
          "base_uri": "https://localhost:8080/"
        },
        "id": "aOwR0NO0eTVh",
        "outputId": "96d74f10-1c2f-4435-8a1c-738273178fe2"
      },
      "execution_count": 17,
      "outputs": [
        {
          "output_type": "execute_result",
          "data": {
            "text/plain": [
              "(626,)"
            ]
          },
          "metadata": {},
          "execution_count": 17
        }
      ]
    },
    {
      "cell_type": "code",
      "source": [
        "y"
      ],
      "metadata": {
        "colab": {
          "base_uri": "https://localhost:8080/"
        },
        "id": "l6hu3cGneV8N",
        "outputId": "89d9af36-cd8c-4795-ab7d-308d2abd8c31"
      },
      "execution_count": 18,
      "outputs": [
        {
          "output_type": "execute_result",
          "data": {
            "text/plain": [
              "0       30000\n",
              "1       18000\n",
              "2       20000\n",
              "3       25000\n",
              "4       24999\n",
              "        ...  \n",
              "621    330000\n",
              "622    300000\n",
              "623    425000\n",
              "624    760000\n",
              "625    750000\n",
              "Name: Selling_Price, Length: 626, dtype: int64"
            ]
          },
          "metadata": {},
          "execution_count": 18
        }
      ]
    },
    {
      "cell_type": "code",
      "source": [
        "X=df[['Year','Seller_Type','Owner','KM_Driven','Ex_Showroom_Price']]"
      ],
      "metadata": {
        "id": "pN6X1vRIeYnl"
      },
      "execution_count": 19,
      "outputs": []
    },
    {
      "cell_type": "code",
      "source": [
        "X.shape"
      ],
      "metadata": {
        "colab": {
          "base_uri": "https://localhost:8080/"
        },
        "id": "QdCuW8A4eoZ3",
        "outputId": "90708ec8-8f0a-472a-8c06-9e2c85e64b49"
      },
      "execution_count": 20,
      "outputs": [
        {
          "output_type": "execute_result",
          "data": {
            "text/plain": [
              "(626, 5)"
            ]
          },
          "metadata": {},
          "execution_count": 20
        }
      ]
    },
    {
      "cell_type": "code",
      "source": [
        "X"
      ],
      "metadata": {
        "colab": {
          "base_uri": "https://localhost:8080/",
          "height": 424
        },
        "id": "TfooDFrrerhk",
        "outputId": "6fc2c2bf-25b3-4145-cee6-f1756a3291a6"
      },
      "execution_count": 21,
      "outputs": [
        {
          "output_type": "execute_result",
          "data": {
            "text/plain": [
              "     Year  Seller_Type  Owner  KM_Driven  Ex_Showroom_Price\n",
              "0    2017            0      0       8000            30490.0\n",
              "1    2017            0      0      35000            32000.0\n",
              "2    2011            0      0      10000            37675.0\n",
              "3    2010            0      0      43000            42859.0\n",
              "4    2012            0      1      35000            42859.0\n",
              "..    ...          ...    ...        ...                ...\n",
              "621  2014            0      3       6500           534000.0\n",
              "622  2011            0      0      12000           589000.0\n",
              "623  2017            0      1      13600           599000.0\n",
              "624  2019            0      0       2800           752020.0\n",
              "625  2013            0      1      12000          1278000.0\n",
              "\n",
              "[626 rows x 5 columns]"
            ],
            "text/html": [
              "\n",
              "  <div id=\"df-3b7d318d-2691-4565-afe4-7b975b25326f\">\n",
              "    <div class=\"colab-df-container\">\n",
              "      <div>\n",
              "<style scoped>\n",
              "    .dataframe tbody tr th:only-of-type {\n",
              "        vertical-align: middle;\n",
              "    }\n",
              "\n",
              "    .dataframe tbody tr th {\n",
              "        vertical-align: top;\n",
              "    }\n",
              "\n",
              "    .dataframe thead th {\n",
              "        text-align: right;\n",
              "    }\n",
              "</style>\n",
              "<table border=\"1\" class=\"dataframe\">\n",
              "  <thead>\n",
              "    <tr style=\"text-align: right;\">\n",
              "      <th></th>\n",
              "      <th>Year</th>\n",
              "      <th>Seller_Type</th>\n",
              "      <th>Owner</th>\n",
              "      <th>KM_Driven</th>\n",
              "      <th>Ex_Showroom_Price</th>\n",
              "    </tr>\n",
              "  </thead>\n",
              "  <tbody>\n",
              "    <tr>\n",
              "      <th>0</th>\n",
              "      <td>2017</td>\n",
              "      <td>0</td>\n",
              "      <td>0</td>\n",
              "      <td>8000</td>\n",
              "      <td>30490.0</td>\n",
              "    </tr>\n",
              "    <tr>\n",
              "      <th>1</th>\n",
              "      <td>2017</td>\n",
              "      <td>0</td>\n",
              "      <td>0</td>\n",
              "      <td>35000</td>\n",
              "      <td>32000.0</td>\n",
              "    </tr>\n",
              "    <tr>\n",
              "      <th>2</th>\n",
              "      <td>2011</td>\n",
              "      <td>0</td>\n",
              "      <td>0</td>\n",
              "      <td>10000</td>\n",
              "      <td>37675.0</td>\n",
              "    </tr>\n",
              "    <tr>\n",
              "      <th>3</th>\n",
              "      <td>2010</td>\n",
              "      <td>0</td>\n",
              "      <td>0</td>\n",
              "      <td>43000</td>\n",
              "      <td>42859.0</td>\n",
              "    </tr>\n",
              "    <tr>\n",
              "      <th>4</th>\n",
              "      <td>2012</td>\n",
              "      <td>0</td>\n",
              "      <td>1</td>\n",
              "      <td>35000</td>\n",
              "      <td>42859.0</td>\n",
              "    </tr>\n",
              "    <tr>\n",
              "      <th>...</th>\n",
              "      <td>...</td>\n",
              "      <td>...</td>\n",
              "      <td>...</td>\n",
              "      <td>...</td>\n",
              "      <td>...</td>\n",
              "    </tr>\n",
              "    <tr>\n",
              "      <th>621</th>\n",
              "      <td>2014</td>\n",
              "      <td>0</td>\n",
              "      <td>3</td>\n",
              "      <td>6500</td>\n",
              "      <td>534000.0</td>\n",
              "    </tr>\n",
              "    <tr>\n",
              "      <th>622</th>\n",
              "      <td>2011</td>\n",
              "      <td>0</td>\n",
              "      <td>0</td>\n",
              "      <td>12000</td>\n",
              "      <td>589000.0</td>\n",
              "    </tr>\n",
              "    <tr>\n",
              "      <th>623</th>\n",
              "      <td>2017</td>\n",
              "      <td>0</td>\n",
              "      <td>1</td>\n",
              "      <td>13600</td>\n",
              "      <td>599000.0</td>\n",
              "    </tr>\n",
              "    <tr>\n",
              "      <th>624</th>\n",
              "      <td>2019</td>\n",
              "      <td>0</td>\n",
              "      <td>0</td>\n",
              "      <td>2800</td>\n",
              "      <td>752020.0</td>\n",
              "    </tr>\n",
              "    <tr>\n",
              "      <th>625</th>\n",
              "      <td>2013</td>\n",
              "      <td>0</td>\n",
              "      <td>1</td>\n",
              "      <td>12000</td>\n",
              "      <td>1278000.0</td>\n",
              "    </tr>\n",
              "  </tbody>\n",
              "</table>\n",
              "<p>626 rows × 5 columns</p>\n",
              "</div>\n",
              "      <button class=\"colab-df-convert\" onclick=\"convertToInteractive('df-3b7d318d-2691-4565-afe4-7b975b25326f')\"\n",
              "              title=\"Convert this dataframe to an interactive table.\"\n",
              "              style=\"display:none;\">\n",
              "        \n",
              "  <svg xmlns=\"http://www.w3.org/2000/svg\" height=\"24px\"viewBox=\"0 0 24 24\"\n",
              "       width=\"24px\">\n",
              "    <path d=\"M0 0h24v24H0V0z\" fill=\"none\"/>\n",
              "    <path d=\"M18.56 5.44l.94 2.06.94-2.06 2.06-.94-2.06-.94-.94-2.06-.94 2.06-2.06.94zm-11 1L8.5 8.5l.94-2.06 2.06-.94-2.06-.94L8.5 2.5l-.94 2.06-2.06.94zm10 10l.94 2.06.94-2.06 2.06-.94-2.06-.94-.94-2.06-.94 2.06-2.06.94z\"/><path d=\"M17.41 7.96l-1.37-1.37c-.4-.4-.92-.59-1.43-.59-.52 0-1.04.2-1.43.59L10.3 9.45l-7.72 7.72c-.78.78-.78 2.05 0 2.83L4 21.41c.39.39.9.59 1.41.59.51 0 1.02-.2 1.41-.59l7.78-7.78 2.81-2.81c.8-.78.8-2.07 0-2.86zM5.41 20L4 18.59l7.72-7.72 1.47 1.35L5.41 20z\"/>\n",
              "  </svg>\n",
              "      </button>\n",
              "      \n",
              "  <style>\n",
              "    .colab-df-container {\n",
              "      display:flex;\n",
              "      flex-wrap:wrap;\n",
              "      gap: 12px;\n",
              "    }\n",
              "\n",
              "    .colab-df-convert {\n",
              "      background-color: #E8F0FE;\n",
              "      border: none;\n",
              "      border-radius: 50%;\n",
              "      cursor: pointer;\n",
              "      display: none;\n",
              "      fill: #1967D2;\n",
              "      height: 32px;\n",
              "      padding: 0 0 0 0;\n",
              "      width: 32px;\n",
              "    }\n",
              "\n",
              "    .colab-df-convert:hover {\n",
              "      background-color: #E2EBFA;\n",
              "      box-shadow: 0px 1px 2px rgba(60, 64, 67, 0.3), 0px 1px 3px 1px rgba(60, 64, 67, 0.15);\n",
              "      fill: #174EA6;\n",
              "    }\n",
              "\n",
              "    [theme=dark] .colab-df-convert {\n",
              "      background-color: #3B4455;\n",
              "      fill: #D2E3FC;\n",
              "    }\n",
              "\n",
              "    [theme=dark] .colab-df-convert:hover {\n",
              "      background-color: #434B5C;\n",
              "      box-shadow: 0px 1px 3px 1px rgba(0, 0, 0, 0.15);\n",
              "      filter: drop-shadow(0px 1px 2px rgba(0, 0, 0, 0.3));\n",
              "      fill: #FFFFFF;\n",
              "    }\n",
              "  </style>\n",
              "\n",
              "      <script>\n",
              "        const buttonEl =\n",
              "          document.querySelector('#df-3b7d318d-2691-4565-afe4-7b975b25326f button.colab-df-convert');\n",
              "        buttonEl.style.display =\n",
              "          google.colab.kernel.accessAllowed ? 'block' : 'none';\n",
              "\n",
              "        async function convertToInteractive(key) {\n",
              "          const element = document.querySelector('#df-3b7d318d-2691-4565-afe4-7b975b25326f');\n",
              "          const dataTable =\n",
              "            await google.colab.kernel.invokeFunction('convertToInteractive',\n",
              "                                                     [key], {});\n",
              "          if (!dataTable) return;\n",
              "\n",
              "          const docLinkHtml = 'Like what you see? Visit the ' +\n",
              "            '<a target=\"_blank\" href=https://colab.research.google.com/notebooks/data_table.ipynb>data table notebook</a>'\n",
              "            + ' to learn more about interactive tables.';\n",
              "          element.innerHTML = '';\n",
              "          dataTable['output_type'] = 'display_data';\n",
              "          await google.colab.output.renderOutput(dataTable, element);\n",
              "          const docLink = document.createElement('div');\n",
              "          docLink.innerHTML = docLinkHtml;\n",
              "          element.appendChild(docLink);\n",
              "        }\n",
              "      </script>\n",
              "    </div>\n",
              "  </div>\n",
              "  "
            ]
          },
          "metadata": {},
          "execution_count": 21
        }
      ]
    },
    {
      "cell_type": "markdown",
      "source": [
        "Get train test split data"
      ],
      "metadata": {
        "id": "cpWMVdhFe6m-"
      }
    },
    {
      "cell_type": "code",
      "source": [
        "from sklearn.model_selection import train_test_split"
      ],
      "metadata": {
        "id": "ffSlzYy8e9ZE"
      },
      "execution_count": 22,
      "outputs": []
    },
    {
      "cell_type": "code",
      "source": [
        "X_train,X_test,y_train,y_test = train_test_split(X,y,test_size = 0.3,random_state=2529)"
      ],
      "metadata": {
        "id": "orH7_o4MfIZJ"
      },
      "execution_count": 23,
      "outputs": []
    },
    {
      "cell_type": "code",
      "source": [
        "X_train.shape,X_test.shape,y_train.shape,y_test.shape"
      ],
      "metadata": {
        "id": "0Gm0yJmsfYo-"
      },
      "execution_count": null,
      "outputs": []
    },
    {
      "cell_type": "markdown",
      "source": [
        "Get model train"
      ],
      "metadata": {
        "id": "ovbUJP0qfm1S"
      }
    },
    {
      "cell_type": "code",
      "source": [
        "from sklearn.linear_model import LinearRegression"
      ],
      "metadata": {
        "id": "CNxmx3lNfssp"
      },
      "execution_count": 25,
      "outputs": []
    },
    {
      "cell_type": "code",
      "source": [
        "lr = LinearRegression()"
      ],
      "metadata": {
        "id": "cX-eL78Nf3VY"
      },
      "execution_count": 26,
      "outputs": []
    },
    {
      "cell_type": "code",
      "source": [
        "lr.fit(X_train,y_train)"
      ],
      "metadata": {
        "colab": {
          "base_uri": "https://localhost:8080/"
        },
        "id": "E4FFsHjZf80F",
        "outputId": "b0fae8f8-9202-4a0f-fe88-e8deebc20b35"
      },
      "execution_count": 27,
      "outputs": [
        {
          "output_type": "execute_result",
          "data": {
            "text/plain": [
              "LinearRegression()"
            ]
          },
          "metadata": {},
          "execution_count": 27
        }
      ]
    },
    {
      "cell_type": "markdown",
      "source": [
        "Get model prediction"
      ],
      "metadata": {
        "id": "OY_uMl5DgDjr"
      }
    },
    {
      "cell_type": "code",
      "source": [
        "y_pred = lr.predict(X_test)"
      ],
      "metadata": {
        "id": "jqFBRya8gFs7"
      },
      "execution_count": 28,
      "outputs": []
    },
    {
      "cell_type": "code",
      "source": [
        "y_pred.shape"
      ],
      "metadata": {
        "colab": {
          "base_uri": "https://localhost:8080/"
        },
        "id": "-fKeo6PagLLr",
        "outputId": "c1d74c5a-5994-4888-af3f-28d1a392a09d"
      },
      "execution_count": 29,
      "outputs": [
        {
          "output_type": "execute_result",
          "data": {
            "text/plain": [
              "(188,)"
            ]
          },
          "metadata": {},
          "execution_count": 29
        }
      ]
    },
    {
      "cell_type": "code",
      "source": [
        "y_pred"
      ],
      "metadata": {
        "colab": {
          "base_uri": "https://localhost:8080/"
        },
        "id": "GZxC-sdTgOYD",
        "outputId": "af910ce8-6aa6-49a9-b877-87d4c43cab5e"
      },
      "execution_count": 30,
      "outputs": [
        {
          "output_type": "execute_result",
          "data": {
            "text/plain": [
              "array([ 27210.52271465,  56340.08335163,  63471.94671996,  53627.63844785,\n",
              "        55612.75744268,  53888.92259719,  33751.35275102,  60311.4950183 ,\n",
              "       113713.05684467,  76639.49332954,  27826.7399381 ,  49919.83255841,\n",
              "        65886.64311457,  26755.12664064,  48277.75426038, 127646.56079335,\n",
              "        70047.10661635,  39350.67963653,  36081.03597878,  45360.79436339,\n",
              "        48079.89470577,  44803.02464799,  55161.44026111,  71041.51821318,\n",
              "        91689.22699159,  49301.53594645,  55988.19326252, 108171.54600296,\n",
              "        32771.06897901,  25468.20072996,  17128.61806164, 179271.41130746,\n",
              "        45698.99857622,  31371.09285079,  67886.52106737,  41492.49575815,\n",
              "        56855.22238602,  47820.47003468,  74682.14053958,  24984.21822736,\n",
              "        55374.00513699,  41412.36775222,  67991.60287764,  26553.59421844,\n",
              "        89788.69870689,  45764.83633686, 133888.03770389, 106988.113825  ,\n",
              "        71176.40667714,  25332.25485946,  79512.43778826,  63914.38088173,\n",
              "        28632.12110986,  53656.13623937,  -5396.37132904,  70377.44571174,\n",
              "        33313.03576476,  53994.92478411,  67509.85836352,  59735.05378847,\n",
              "        22199.83644217,  15374.18984158,  44510.76819427,  30279.52476752,\n",
              "       108243.77037514,  19291.8895874 ,  53614.312976  ,  59230.23269131,\n",
              "        60174.2108109 ,  45924.63468736,  25770.81883496,  63471.36257814,\n",
              "       242123.45729792,  61387.72544548,  56510.98127074,  48123.28087213,\n",
              "        51668.27442011,  90279.76190495,  14827.76533556, 112437.70820504,\n",
              "        35066.88027405,  30902.41069172,  31441.48921433, 125593.75847157,\n",
              "        27705.38813164, -11590.29205553,  15582.17108685,  75113.64511232,\n",
              "       504085.44522282, 123545.42050116,  74770.89327697,  50747.47663245,\n",
              "        44174.3618212 ,  25426.7156106 ,  30298.3052462 ,  47625.67836414,\n",
              "        27850.37544807,  28845.23330928,  31580.38624692,  32309.63375635,\n",
              "        47979.16788554,  65955.46375944,  13432.28218017,  15368.80064986,\n",
              "        31973.23052409, 110353.92870546,  68181.49509136,  23143.49139797,\n",
              "        53194.65732076,  34603.36376989,  56002.50967868,  62432.66994305,\n",
              "       391470.77533201,   3558.29480891,  36019.18494305,  70876.34866549,\n",
              "        72890.00667025, 137596.01384364,  27620.36308877, 135789.30486854,\n",
              "        39674.40366791,  58367.0924453 ,  42401.21202624,  61864.4379567 ,\n",
              "        42688.89652842,  63710.34571021,  10604.39360071,  38458.82820943,\n",
              "       112251.84744225, 115403.00577536,  13658.41734785,  36196.83359584,\n",
              "        54146.22998932,  97297.85724851,  55029.68137265,  22923.26533437,\n",
              "       104569.97029689,  41965.75852017,  38759.68546491,  28930.61369011,\n",
              "        45231.66612551,  48475.43422775,  26739.7225731 ,  53598.65972203,\n",
              "        32558.54954524,  32212.22834942,  68172.98738422,  71839.47716461,\n",
              "        32003.46692215,  40652.69995971,  39935.92211843,  63444.41846202,\n",
              "        44545.5818771 , 120873.38389616,  60926.58683174,  62641.82167496,\n",
              "        60816.47379994,  27098.95433573,  26803.64749618,  48956.00468627,\n",
              "        62032.88118713,  26471.97495723, 104937.23068766, 132903.3578847 ,\n",
              "        37469.2040942 ,  57579.12080094,  40371.00915736,  -7039.40662503,\n",
              "        26485.40030077,  90782.42554145,  52153.21149321,  56453.74542453,\n",
              "        80440.59426003,  31890.46870273,  49505.97985573,  24288.36959514,\n",
              "        25540.47481573, 117708.26333955,  23399.66596746,  63678.40865459,\n",
              "        70144.29372668,  33434.89010059,  60885.29444481,  58389.55370878,\n",
              "        35118.7040348 ,  58729.4540196 ,  34627.9532246 ,  38583.4623973 ])"
            ]
          },
          "metadata": {},
          "execution_count": 30
        }
      ]
    },
    {
      "cell_type": "markdown",
      "source": [
        "Get model evaluation"
      ],
      "metadata": {
        "id": "bXLh746Rgj7H"
      }
    },
    {
      "cell_type": "code",
      "source": [
        "from sklearn.metrics import mean_squared_error,mean_absolute_error,r2_score"
      ],
      "metadata": {
        "id": "GJwJXu4tgnqQ"
      },
      "execution_count": 31,
      "outputs": []
    },
    {
      "cell_type": "code",
      "source": [
        "mean_squared_error(y_test,y_pred)"
      ],
      "metadata": {
        "colab": {
          "base_uri": "https://localhost:8080/"
        },
        "id": "G-hdyUklg1Rz",
        "outputId": "9b7afed0-bf00-4fb3-b10a-3facda43733d"
      },
      "execution_count": 32,
      "outputs": [
        {
          "output_type": "execute_result",
          "data": {
            "text/plain": [
              "554715615.5043668"
            ]
          },
          "metadata": {},
          "execution_count": 32
        }
      ]
    },
    {
      "cell_type": "code",
      "source": [
        "mean_absolute_error(y_test,y_pred)"
      ],
      "metadata": {
        "colab": {
          "base_uri": "https://localhost:8080/"
        },
        "id": "F7TPpG52g7XW",
        "outputId": "cb3cff27-3836-446b-d51d-cdc34d6c8981"
      },
      "execution_count": 33,
      "outputs": [
        {
          "output_type": "execute_result",
          "data": {
            "text/plain": [
              "12225.7370104107"
            ]
          },
          "metadata": {},
          "execution_count": 33
        }
      ]
    },
    {
      "cell_type": "code",
      "source": [
        "r2_score(y_test,y_pred)"
      ],
      "metadata": {
        "colab": {
          "base_uri": "https://localhost:8080/"
        },
        "id": "Qle741UPhBNu",
        "outputId": "51938133-ad7a-475b-acd3-3af5cfa50d6b"
      },
      "execution_count": 34,
      "outputs": [
        {
          "output_type": "execute_result",
          "data": {
            "text/plain": [
              "0.8810414402984937"
            ]
          },
          "metadata": {},
          "execution_count": 34
        }
      ]
    },
    {
      "cell_type": "markdown",
      "source": [
        "Get visualization of actual vs predicted results"
      ],
      "metadata": {
        "id": "igDC4IfChHz4"
      }
    },
    {
      "cell_type": "code",
      "source": [
        "import matplotlib.pyplot as plt\n",
        "plt.scatter(y_test,y_pred)\n",
        "plt.xlabel(\"Actual priices\")\n",
        "plt.ylabel(\"Predicted prices\")\n",
        "plt.title(\"Actual versus predicted price\")\n",
        "plt.show()"
      ],
      "metadata": {
        "colab": {
          "base_uri": "https://localhost:8080/",
          "height": 295
        },
        "id": "72JTAzXChNpC",
        "outputId": "770e168b-ca4f-47cd-dfbc-55668519b117"
      },
      "execution_count": 35,
      "outputs": [
        {
          "output_type": "display_data",
          "data": {
            "text/plain": [
              "<Figure size 432x288 with 1 Axes>"
            ],
            "image/png": "[encoded data removed]"
          },
          "metadata": {
            "needs_background": "light"
          }
        }
      ]
    },
    {
      "cell_type": "markdown",
      "source": [
        "Get future predictions"
      ],
      "metadata": {
        "id": "5EiXKGynhyHA"
      }
    },
    {
      "cell_type": "code",
      "source": [
        "df_new = df.sample(1)"
      ],
      "metadata": {
        "id": "BG_m357Fhudf"
      },
      "execution_count": 36,
      "outputs": []
    },
    {
      "cell_type": "code",
      "source": [
        "df_new"
      ],
      "metadata": {
        "colab": {
          "base_uri": "https://localhost:8080/",
          "height": 81
        },
        "id": "a0BCSXlqh7VY",
        "outputId": "e6783dc2-cddf-40c4-a145-010d901e5e50"
      },
      "execution_count": 37,
      "outputs": [
        {
          "output_type": "execute_result",
          "data": {
            "text/plain": [
              "     Brand                Model  Selling_Price  Year  Seller_Type  Owner  \\\n",
              "254  Bajaj  Bajaj Discover 150S          35000  2015            0      0   \n",
              "\n",
              "     KM_Driven  Ex_Showroom_Price  \n",
              "254      28000            63331.0  "
            ],
            "text/html": [
              "\n",
              "  <div id=\"df-bc1c253c-790f-4e09-93c4-21488562672a\">\n",
              "    <div class=\"colab-df-container\">\n",
              "      <div>\n",
              "<style scoped>\n",
              "    .dataframe tbody tr th:only-of-type {\n",
              "        vertical-align: middle;\n",
              "    }\n",
              "\n",
              "    .dataframe tbody tr th {\n",
              "        vertical-align: top;\n",
              "    }\n",
              "\n",
              "    .dataframe thead th {\n",
              "        text-align: right;\n",
              "    }\n",
              "</style>\n",
              "<table border=\"1\" class=\"dataframe\">\n",
              "  <thead>\n",
              "    <tr style=\"text-align: right;\">\n",
              "      <th></th>\n",
              "      <th>Brand</th>\n",
              "      <th>Model</th>\n",
              "      <th>Selling_Price</th>\n",
              "      <th>Year</th>\n",
              "      <th>Seller_Type</th>\n",
              "      <th>Owner</th>\n",
              "      <th>KM_Driven</th>\n",
              "      <th>Ex_Showroom_Price</th>\n",
              "    </tr>\n",
              "  </thead>\n",
              "  <tbody>\n",
              "    <tr>\n",
              "      <th>254</th>\n",
              "      <td>Bajaj</td>\n",
              "      <td>Bajaj Discover 150S</td>\n",
              "      <td>35000</td>\n",
              "      <td>2015</td>\n",
              "      <td>0</td>\n",
              "      <td>0</td>\n",
              "      <td>28000</td>\n",
              "      <td>63331.0</td>\n",
              "    </tr>\n",
              "  </tbody>\n",
              "</table>\n",
              "</div>\n",
              "      <button class=\"colab-df-convert\" onclick=\"convertToInteractive('df-bc1c253c-790f-4e09-93c4-21488562672a')\"\n",
              "              title=\"Convert this dataframe to an interactive table.\"\n",
              "              style=\"display:none;\">\n",
              "        \n",
              "  <svg xmlns=\"http://www.w3.org/2000/svg\" height=\"24px\"viewBox=\"0 0 24 24\"\n",
              "       width=\"24px\">\n",
              "    <path d=\"M0 0h24v24H0V0z\" fill=\"none\"/>\n",
              "    <path d=\"M18.56 5.44l.94 2.06.94-2.06 2.06-.94-2.06-.94-.94-2.06-.94 2.06-2.06.94zm-11 1L8.5 8.5l.94-2.06 2.06-.94-2.06-.94L8.5 2.5l-.94 2.06-2.06.94zm10 10l.94 2.06.94-2.06 2.06-.94-2.06-.94-.94-2.06-.94 2.06-2.06.94z\"/><path d=\"M17.41 7.96l-1.37-1.37c-.4-.4-.92-.59-1.43-.59-.52 0-1.04.2-1.43.59L10.3 9.45l-7.72 7.72c-.78.78-.78 2.05 0 2.83L4 21.41c.39.39.9.59 1.41.59.51 0 1.02-.2 1.41-.59l7.78-7.78 2.81-2.81c.8-.78.8-2.07 0-2.86zM5.41 20L4 18.59l7.72-7.72 1.47 1.35L5.41 20z\"/>\n",
              "  </svg>\n",
              "      </button>\n",
              "      \n",
              "  <style>\n",
              "    .colab-df-container {\n",
              "      display:flex;\n",
              "      flex-wrap:wrap;\n",
              "      gap: 12px;\n",
              "    }\n",
              "\n",
              "    .colab-df-convert {\n",
              "      background-color: #E8F0FE;\n",
              "      border: none;\n",
              "      border-radius: 50%;\n",
              "      cursor: pointer;\n",
              "      display: none;\n",
              "      fill: #1967D2;\n",
              "      height: 32px;\n",
              "      padding: 0 0 0 0;\n",
              "      width: 32px;\n",
              "    }\n",
              "\n",
              "    .colab-df-convert:hover {\n",
              "      background-color: #E2EBFA;\n",
              "      box-shadow: 0px 1px 2px rgba(60, 64, 67, 0.3), 0px 1px 3px 1px rgba(60, 64, 67, 0.15);\n",
              "      fill: #174EA6;\n",
              "    }\n",
              "\n",
              "    [theme=dark] .colab-df-convert {\n",
              "      background-color: #3B4455;\n",
              "      fill: #D2E3FC;\n",
              "    }\n",
              "\n",
              "    [theme=dark] .colab-df-convert:hover {\n",
              "      background-color: #434B5C;\n",
              "      box-shadow: 0px 1px 3px 1px rgba(0, 0, 0, 0.15);\n",
              "      filter: drop-shadow(0px 1px 2px rgba(0, 0, 0, 0.3));\n",
              "      fill: #FFFFFF;\n",
              "    }\n",
              "  </style>\n",
              "\n",
              "      <script>\n",
              "        const buttonEl =\n",
              "          document.querySelector('#df-bc1c253c-790f-4e09-93c4-21488562672a button.colab-df-convert');\n",
              "        buttonEl.style.display =\n",
              "          google.colab.kernel.accessAllowed ? 'block' : 'none';\n",
              "\n",
              "        async function convertToInteractive(key) {\n",
              "          const element = document.querySelector('#df-bc1c253c-790f-4e09-93c4-21488562672a');\n",
              "          const dataTable =\n",
              "            await google.colab.kernel.invokeFunction('convertToInteractive',\n",
              "                                                     [key], {});\n",
              "          if (!dataTable) return;\n",
              "\n",
              "          const docLinkHtml = 'Like what you see? Visit the ' +\n",
              "            '<a target=\"_blank\" href=https://colab.research.google.com/notebooks/data_table.ipynb>data table notebook</a>'\n",
              "            + ' to learn more about interactive tables.';\n",
              "          element.innerHTML = '';\n",
              "          dataTable['output_type'] = 'display_data';\n",
              "          await google.colab.output.renderOutput(dataTable, element);\n",
              "          const docLink = document.createElement('div');\n",
              "          docLink.innerHTML = docLinkHtml;\n",
              "          element.appendChild(docLink);\n",
              "        }\n",
              "      </script>\n",
              "    </div>\n",
              "  </div>\n",
              "  "
            ]
          },
          "metadata": {},
          "execution_count": 37
        }
      ]
    },
    {
      "cell_type": "code",
      "source": [
        "df_new.shape"
      ],
      "metadata": {
        "colab": {
          "base_uri": "https://localhost:8080/"
        },
        "id": "e-cd1ddFh-Nt",
        "outputId": "8157e4d1-627f-47db-cba6-0cf5780dd412"
      },
      "execution_count": 38,
      "outputs": [
        {
          "output_type": "execute_result",
          "data": {
            "text/plain": [
              "(1, 8)"
            ]
          },
          "metadata": {},
          "execution_count": 38
        }
      ]
    },
    {
      "cell_type": "code",
      "source": [
        "X_new = df_new.drop(['Brand','Model','Selling_Price'],axis = 1)"
      ],
      "metadata": {
        "id": "SeCqGExYiB5K"
      },
      "execution_count": 39,
      "outputs": []
    },
    {
      "cell_type": "code",
      "source": [
        "y_pred_new = lr.predict(X_new)"
      ],
      "metadata": {
        "id": "Al80pf-AiRbE"
      },
      "execution_count": 40,
      "outputs": []
    },
    {
      "cell_type": "code",
      "source": [
        "y_pred_new"
      ],
      "metadata": {
        "colab": {
          "base_uri": "https://localhost:8080/"
        },
        "id": "hr0XNRcWiYSL",
        "outputId": "7b374bdc-56ef-4084-f5bc-ac00966cdbcd"
      },
      "execution_count": 41,
      "outputs": [
        {
          "output_type": "execute_result",
          "data": {
            "text/plain": [
              "array([45396.76942123])"
            ]
          },
          "metadata": {},
          "execution_count": 41
        }
      ]
    }
  ]
}